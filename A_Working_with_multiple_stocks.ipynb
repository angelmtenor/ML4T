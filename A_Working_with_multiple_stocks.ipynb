{
 "cells": [
  {
   "cell_type": "markdown",
   "metadata": {},
   "source": [
    "# Working with multiple stocks"
   ]
  },
  {
   "cell_type": "code",
   "execution_count": 1,
   "metadata": {
    "collapsed": true
   },
   "outputs": [],
   "source": [
    "import os\n",
    "import pandas as pd"
   ]
  },
  {
   "cell_type": "code",
   "execution_count": 2,
   "metadata": {
    "collapsed": false
   },
   "outputs": [],
   "source": [
    "# Define a date range\n",
    "dates = pd.date_range('2017-07-01', '2017-07-31')\n",
    "\n",
    "# Choose stock symbols to read\n",
    "symbols = ['googl', 'ibm', 'gld']\n",
    "\n",
    "df = pd.DataFrame(index=dates)"
   ]
  },
  {
   "cell_type": "code",
   "execution_count": 3,
   "metadata": {
    "collapsed": false
   },
   "outputs": [
    {
     "data": {
      "text/html": [
       "<div>\n",
       "<table border=\"1\" class=\"dataframe\">\n",
       "  <thead>\n",
       "    <tr style=\"text-align: right;\">\n",
       "      <th></th>\n",
       "      <th>spy</th>\n",
       "      <th>googl</th>\n",
       "      <th>ibm</th>\n",
       "      <th>gld</th>\n",
       "    </tr>\n",
       "  </thead>\n",
       "  <tbody>\n",
       "    <tr>\n",
       "      <th>2017-07-03</th>\n",
       "      <td>242.21</td>\n",
       "      <td>919.46</td>\n",
       "      <td>155.58</td>\n",
       "      <td>116.09</td>\n",
       "    </tr>\n",
       "    <tr>\n",
       "      <th>2017-07-05</th>\n",
       "      <td>242.77</td>\n",
       "      <td>932.26</td>\n",
       "      <td>153.67</td>\n",
       "      <td>116.52</td>\n",
       "    </tr>\n",
       "    <tr>\n",
       "      <th>2017-07-06</th>\n",
       "      <td>240.55</td>\n",
       "      <td>927.69</td>\n",
       "      <td>152.36</td>\n",
       "      <td>116.47</td>\n",
       "    </tr>\n",
       "    <tr>\n",
       "      <th>2017-07-07</th>\n",
       "      <td>242.11</td>\n",
       "      <td>940.81</td>\n",
       "      <td>152.94</td>\n",
       "      <td>115.28</td>\n",
       "    </tr>\n",
       "    <tr>\n",
       "      <th>2017-07-10</th>\n",
       "      <td>242.37</td>\n",
       "      <td>951.00</td>\n",
       "      <td>153.42</td>\n",
       "      <td>115.47</td>\n",
       "    </tr>\n",
       "  </tbody>\n",
       "</table>\n",
       "</div>"
      ],
      "text/plain": [
       "               spy   googl     ibm     gld\n",
       "2017-07-03  242.21  919.46  155.58  116.09\n",
       "2017-07-05  242.77  932.26  153.67  116.52\n",
       "2017-07-06  240.55  927.69  152.36  116.47\n",
       "2017-07-07  242.11  940.81  152.94  115.28\n",
       "2017-07-10  242.37  951.00  153.42  115.47"
      ]
     },
     "execution_count": 3,
     "metadata": {},
     "output_type": "execute_result"
    }
   ],
   "source": [
    "# Read stock data (close) for given symbols from CSV files\n",
    "if 'spy' not in symbols:  # add SPY for reference, if absent\n",
    "    symbols.insert(0, 'spy')\n",
    "\n",
    "for sym in symbols:\n",
    "    df_temp = pd.read_csv(\"data/{}.csv\".format(sym), index_col='Date', parse_dates=True, \n",
    "                          usecols=['Date', 'Close'], na_values=['nan'])\n",
    "    df_temp = df_temp.rename(columns = {'Close': sym})\n",
    "    df = df.join(df_temp)\n",
    "    if sym == 'spy': # drop dates SPY did not trade\n",
    "        df = df.dropna(subset=[\"spy\"])     \n",
    "\n",
    "df.head()"
   ]
  }
 ],
 "metadata": {
  "kernelspec": {
   "display_name": "Python 3",
   "language": "python",
   "name": "python3"
  },
  "language_info": {
   "codemirror_mode": {
    "name": "ipython",
    "version": 3
   },
   "file_extension": ".py",
   "mimetype": "text/x-python",
   "name": "python",
   "nbconvert_exporter": "python",
   "pygments_lexer": "ipython3",
   "version": "3.6.1"
  }
 },
 "nbformat": 4,
 "nbformat_minor": 2
}
